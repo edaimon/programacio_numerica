{
 "cells": [
  {
   "cell_type": "markdown",
   "id": "adeee8b6",
   "metadata": {},
   "source": [
    "# Ex 1\n",
    "Crea una funció que donat un Array d’una dimensió, et faci un resum estadístic bàsic de les dades. Si detecta que l’array té més d’una dimensió, ha de mostrar un missatge d’error."
   ]
  },
  {
   "cell_type": "code",
   "execution_count": 20,
   "id": "6cadda8c",
   "metadata": {},
   "outputs": [
    {
     "name": "stdout",
     "output_type": "stream",
     "text": [
      "La mitjana és:  5.5\n",
      "La mediana és:  5.5\n",
      "La desviació típica és:  2.8722813232690143\n",
      "La variància és:  8.25\n",
      "El número màxim és:  10\n",
      "El número mínim és:  1\n",
      "La suma dels números és:  55\n"
     ]
    }
   ],
   "source": [
    "import numpy as np\n",
    "\n",
    "def resum_estadistic_1d(arr):\n",
    "    if arr.ndim > 1:\n",
    "        print(\"L'array té més d'1 dimensió\")\n",
    "        return\n",
    "    print(\"La mitjana és: \", np.mean(arr))\n",
    "    print(\"La mediana és: \", np.median(arr))\n",
    "    print(\"La desviació típica és: \", np.std(arr))\n",
    "    print(\"La variància és: \", np.var(arr))\n",
    "    print(\"El número màxim és: \", np.max(arr))\n",
    "    print(\"El número mínim és: \", np.min(arr))\n",
    "    print(\"La suma dels números és: \", np.sum(arr))\n",
    "\n",
    "# Prova\n",
    "dades = np.array([1,2,3,4,5,6,7,8,9,10])\n",
    "resum_estadistic_1d(dades)\n",
    "\n",
    "# dades_2d = np.array([[1,2,3,4,5],[6,7,8,9,10]])\n",
    "# resum_estadistic_1d(dades_2d)"
   ]
  },
  {
   "cell_type": "code",
   "execution_count": null,
   "id": "9da407bb",
   "metadata": {},
   "outputs": [],
   "source": []
  }
 ],
 "metadata": {
  "kernelspec": {
   "display_name": "Python 3 (ipykernel)",
   "language": "python",
   "name": "python3"
  },
  "language_info": {
   "codemirror_mode": {
    "name": "ipython",
    "version": 3
   },
   "file_extension": ".py",
   "mimetype": "text/x-python",
   "name": "python",
   "nbconvert_exporter": "python",
   "pygments_lexer": "ipython3",
   "version": "3.10.9"
  },
  "varInspector": {
   "cols": {
    "lenName": 16,
    "lenType": 16,
    "lenVar": 40
   },
   "kernels_config": {
    "python": {
     "delete_cmd_postfix": "",
     "delete_cmd_prefix": "del ",
     "library": "var_list.py",
     "varRefreshCmd": "print(var_dic_list())"
    },
    "r": {
     "delete_cmd_postfix": ") ",
     "delete_cmd_prefix": "rm(",
     "library": "var_list.r",
     "varRefreshCmd": "cat(var_dic_list()) "
    }
   },
   "types_to_exclude": [
    "module",
    "function",
    "builtin_function_or_method",
    "instance",
    "_Feature"
   ],
   "window_display": false
  }
 },
 "nbformat": 4,
 "nbformat_minor": 5
}
